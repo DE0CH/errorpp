{
 "cells": [
  {
   "cell_type": "markdown",
   "id": "46a61c4f",
   "metadata": {},
   "source": [
    "# Imports, Functions, Constants"
   ]
  },
  {
   "cell_type": "code",
   "execution_count": 11,
   "id": "6681017a",
   "metadata": {},
   "outputs": [],
   "source": [
    "import sympy\n",
    "import sympy.abc as t\n",
    "import functools\n",
    "import scipy.constants as constants\n",
    "import errorpp"
   ]
  },
  {
   "cell_type": "code",
   "execution_count": 12,
   "id": "419c0649",
   "metadata": {},
   "outputs": [],
   "source": [
    "m1, m2, mw, mcu, cw, ccu, t1, t2, tw, tcu, tf, tf2 = sympy.symbols('m_1 m_2 m_w m_cu c_w c_cu T_1 T_2 T_w T_cu T_f T_f2')"
   ]
  },
  {
   "cell_type": "code",
   "execution_count": 13,
   "id": "3046674f",
   "metadata": {},
   "outputs": [],
   "source": [
    "delta = sympy.Function('Delta')\n"
   ]
  },
  {
   "cell_type": "code",
   "execution_count": 14,
   "id": "9d4be9b7",
   "metadata": {},
   "outputs": [],
   "source": [
    "def delta_expand(x, absolute=True):\n",
    "    if isinstance(x, sympy.core.add.Add):\n",
    "        return sympy.sqrt(functools.reduce(lambda a, b: a+delta_expand(b, absolute=absolute)**2, (0,)+x.args))\n",
    "    elif isinstance(x, sympy.core.mul.Mul):\n",
    "        return sympy.sqrt(functools.reduce(lambda a, b: a+(delta_expand(b, absolute=absolute)/b)**2, (0,)+x.args))*(abs(x) if absolute or x.is_number else x)\n",
    "    elif isinstance(x, sympy.core.power.Pow):\n",
    "        return x.args[1]*x.args[0]**(x.args[1]-1)*delta_expand(x.args[0], absolute=absolute)\n",
    "    elif isinstance(x, sympy.core.symbol.Symbol):\n",
    "        return delta(x)\n",
    "    elif x.is_number:\n",
    "        return 0\n",
    "    else:\n",
    "        raise NotImplementedError(f'Function {x} not suppored')"
   ]
  },
  {
   "cell_type": "code",
   "execution_count": 15,
   "id": "22327fcf-4940-40da-bd04-cf75929234bb",
   "metadata": {},
   "outputs": [
    {
     "data": {
      "text/plain": [
       "'\\\\sqrt{\\\\frac{\\\\Delta^{2}{\\\\left(c \\\\right)}}{c^{2}} + \\\\frac{\\\\Delta^{2}{\\\\left(b \\\\right)}}{b^{2}} + \\\\frac{\\\\Delta^{2}{\\\\left(a \\\\right)}}{a^{2}}} \\\\left|{a b c}\\\\right|'"
      ]
     },
     "execution_count": 15,
     "metadata": {},
     "output_type": "execute_result"
    }
   ],
   "source": [
    "(sympy.latex(delta_expand(t.a * t.b *t.c)))"
   ]
  },
  {
   "cell_type": "code",
   "execution_count": 16,
   "id": "05340019",
   "metadata": {},
   "outputs": [],
   "source": [
    "def sub_v(eq):\n",
    "    eq = eq.subs(delta(cw), 0)\n",
    "    eq = eq.subs(delta(m1), 0.05)\n",
    "    eq = eq.subs(delta(m2), 0.05)\n",
    "    eq = eq.subs(delta(mw), 0.05)\n",
    "    eq = eq.subs(delta(mcu), 0.05)\n",
    "    eq = eq.subs(delta(t1), 0.1)\n",
    "    eq = eq.subs(delta(t2), 0.4)\n",
    "    eq = eq.subs(delta(tf), 0.2)\n",
    "    eq = eq.subs(delta(tw), 0.1)\n",
    "    eq = eq.subs(delta(tf2), 0.1)\n",
    "    eq = eq.subs(delta(tcu), 0.2)\n",
    "    eq = eq.subs(cw, 4.184)\n",
    "    eq = eq.subs(m1, 43.1)\n",
    "    eq = eq.subs(m2, 47.9)\n",
    "    eq = eq.subs(t1, 22.4)\n",
    "    eq = eq.subs(t2, 62.2)\n",
    "    eq = eq.subs(tf, 40.6)\n",
    "    eq = eq.subs(mw, 85.5)\n",
    "    eq = eq.subs(mcu, 204.3)\n",
    "    eq = eq.subs(tw, 22.5)\n",
    "    eq = eq.subs(tcu, 65.4)\n",
    "    eq = eq.subs(tf2, 29.4)\n",
    "    return eq"
   ]
  },
  {
   "cell_type": "code",
   "execution_count": 17,
   "id": "d8897ffb",
   "metadata": {},
   "outputs": [
    {
     "data": {
      "text/plain": [
       "True"
      ]
     },
     "execution_count": 17,
     "metadata": {},
     "output_type": "execute_result"
    }
   ],
   "source": [
    "sympy.simplify(1).is_number"
   ]
  },
  {
   "cell_type": "code",
   "execution_count": 18,
   "id": "74d86ace",
   "metadata": {},
   "outputs": [],
   "source": [
    "q= t1-tf"
   ]
  },
  {
   "cell_type": "code",
   "execution_count": 19,
   "id": "70c3e9c7",
   "metadata": {},
   "outputs": [
    {
     "data": {
      "text/latex": [
       "$\\displaystyle \\frac{- c_{w} m_{1} \\left(- T_{1} + T_{f}\\right) + c_{w} m_{2} \\left(T_{2} - T_{f}\\right)}{- T_{1} + T_{f}}$"
      ],
      "text/plain": [
       "(-c_w*m_1*(-T_1 + T_f) + c_w*m_2*(T_2 - T_f))/(-T_1 + T_f)"
      ]
     },
     "execution_count": 19,
     "metadata": {},
     "output_type": "execute_result"
    }
   ],
   "source": [
    "ccal = (m2*cw*(t2-tf) -m1*cw*(tf-t1)) / (tf-t1)\n",
    "ccal"
   ]
  },
  {
   "cell_type": "code",
   "execution_count": 20,
   "id": "17be57d2",
   "metadata": {},
   "outputs": [
    {
     "data": {
      "text/latex": [
       "$\\displaystyle \\sqrt{\\frac{\\left(\\frac{\\Delta^{2}{\\left(T_{1} \\right)} + \\Delta^{2}{\\left(T_{f} \\right)}}{\\left(- T_{1} + T_{f}\\right)^{2}} + \\frac{\\Delta^{2}{\\left(m_{1} \\right)}}{m_{1}^{2}} + \\frac{\\Delta^{2}{\\left(c_{w} \\right)}}{c_{w}^{2}}\\right) \\left|{c_{w} m_{1} \\left(T_{1} - T_{f}\\right)}\\right|^{2} + \\left(\\frac{\\Delta^{2}{\\left(T_{2} \\right)} + \\Delta^{2}{\\left(T_{f} \\right)}}{\\left(T_{2} - T_{f}\\right)^{2}} + \\frac{\\Delta^{2}{\\left(m_{2} \\right)}}{m_{2}^{2}} + \\frac{\\Delta^{2}{\\left(c_{w} \\right)}}{c_{w}^{2}}\\right) \\left|{c_{w} m_{2} \\left(T_{2} - T_{f}\\right)}\\right|^{2}}{\\left(- c_{w} m_{1} \\left(- T_{1} + T_{f}\\right) + c_{w} m_{2} \\left(T_{2} - T_{f}\\right)\\right)^{2}} + \\frac{\\Delta^{2}{\\left(T_{1} \\right)} + \\Delta^{2}{\\left(T_{f} \\right)}}{\\left(- T_{1} + T_{f}\\right)^{2}}} \\left|{\\frac{- c_{w} m_{1} \\left(T_{1} - T_{f}\\right) - c_{w} m_{2} \\left(T_{2} - T_{f}\\right)}{T_{1} - T_{f}}}\\right|$"
      ],
      "text/plain": [
       "sqrt((((Delta(T_1)**2 + Delta(T_f)**2)/(-T_1 + T_f)**2 + Delta(m_1)**2/m_1**2 + Delta(c_w)**2/c_w**2)*Abs(c_w*m_1*(T_1 - T_f))**2 + ((Delta(T_2)**2 + Delta(T_f)**2)/(T_2 - T_f)**2 + Delta(m_2)**2/m_2**2 + Delta(c_w)**2/c_w**2)*Abs(c_w*m_2*(T_2 - T_f))**2)/(-c_w*m_1*(-T_1 + T_f) + c_w*m_2*(T_2 - T_f))**2 + (Delta(T_1)**2 + Delta(T_f)**2)/(-T_1 + T_f)**2)*Abs((-c_w*m_1*(T_1 - T_f) - c_w*m_2*(T_2 - T_f))/(T_1 - T_f))"
      ]
     },
     "metadata": {},
     "output_type": "display_data"
    },
    {
     "data": {
      "text/latex": [
       "$\\displaystyle \\sqrt{\\left(- T_{1} + T_{f}\\right)^{2} \\Delta^{2}{\\left(\\frac{1}{- T_{1} + T_{f}} \\right)} + \\frac{\\Delta^{2}{\\left(- c_{w} m_{1} \\left(- T_{1} + T_{f}\\right) + c_{w} m_{2} \\left(T_{2} - T_{f}\\right) \\right)}}{\\left(- c_{w} m_{1} \\left(- T_{1} + T_{f}\\right) + c_{w} m_{2} \\left(T_{2} - T_{f}\\right)\\right)^{2}}} \\left|{\\frac{- c_{w} m_{1} \\left(T_{1} - T_{f}\\right) - c_{w} m_{2} \\left(T_{2} - T_{f}\\right)}{T_{1} - T_{f}}}\\right|$"
      ],
      "text/plain": [
       "sqrt((-T_1 + T_f)**2*Delta(1/(-T_1 + T_f))**2 + Delta(-c_w*m_1*(-T_1 + T_f) + c_w*m_2*(T_2 - T_f))**2/(-c_w*m_1*(-T_1 + T_f) + c_w*m_2*(T_2 - T_f))**2)*Abs((-c_w*m_1*(T_1 - T_f) - c_w*m_2*(T_2 - T_f))/(T_1 - T_f))"
      ]
     },
     "metadata": {},
     "output_type": "display_data"
    },
    {
     "data": {
      "text/latex": [
       "$\\displaystyle \\sqrt{\\frac{\\Delta^{2}{\\left(- c_{w} m_{1} \\left(- T_{1} + T_{f}\\right) \\right)} + \\Delta^{2}{\\left(c_{w} m_{2} \\left(T_{2} - T_{f}\\right) \\right)}}{\\left(- c_{w} m_{1} \\left(- T_{1} + T_{f}\\right) + c_{w} m_{2} \\left(T_{2} - T_{f}\\right)\\right)^{2}} + \\frac{\\Delta^{2}{\\left(T_{1} \\right)} + \\Delta^{2}{\\left(T_{f} \\right)}}{\\left(- T_{1} + T_{f}\\right)^{2}}} \\left|{\\frac{- c_{w} m_{1} \\left(T_{1} - T_{f}\\right) - c_{w} m_{2} \\left(T_{2} - T_{f}\\right)}{T_{1} - T_{f}}}\\right|$"
      ],
      "text/plain": [
       "sqrt((Delta(-c_w*m_1*(-T_1 + T_f))**2 + Delta(c_w*m_2*(T_2 - T_f))**2)/(-c_w*m_1*(-T_1 + T_f) + c_w*m_2*(T_2 - T_f))**2 + (Delta(T_1)**2 + Delta(T_f)**2)/(-T_1 + T_f)**2)*Abs((-c_w*m_1*(T_1 - T_f) - c_w*m_2*(T_2 - T_f))/(T_1 - T_f))"
      ]
     },
     "metadata": {},
     "output_type": "display_data"
    },
    {
     "data": {
      "text/latex": [
       "$\\displaystyle \\sqrt{\\frac{\\left(\\frac{\\Delta^{2}{\\left(- T_{1} + T_{f} \\right)}}{\\left(- T_{1} + T_{f}\\right)^{2}} + \\frac{\\Delta^{2}{\\left(m_{1} \\right)}}{m_{1}^{2}} + \\frac{\\Delta^{2}{\\left(c_{w} \\right)}}{c_{w}^{2}}\\right) \\left|{c_{w} m_{1} \\left(T_{1} - T_{f}\\right)}\\right|^{2} + \\left(\\frac{\\Delta^{2}{\\left(T_{2} - T_{f} \\right)}}{\\left(T_{2} - T_{f}\\right)^{2}} + \\frac{\\Delta^{2}{\\left(m_{2} \\right)}}{m_{2}^{2}} + \\frac{\\Delta^{2}{\\left(c_{w} \\right)}}{c_{w}^{2}}\\right) \\left|{c_{w} m_{2} \\left(T_{2} - T_{f}\\right)}\\right|^{2}}{\\left(- c_{w} m_{1} \\left(- T_{1} + T_{f}\\right) + c_{w} m_{2} \\left(T_{2} - T_{f}\\right)\\right)^{2}} + \\frac{\\Delta^{2}{\\left(T_{1} \\right)} + \\Delta^{2}{\\left(T_{f} \\right)}}{\\left(- T_{1} + T_{f}\\right)^{2}}} \\left|{\\frac{- c_{w} m_{1} \\left(T_{1} - T_{f}\\right) - c_{w} m_{2} \\left(T_{2} - T_{f}\\right)}{T_{1} - T_{f}}}\\right|$"
      ],
      "text/plain": [
       "sqrt(((Delta(-T_1 + T_f)**2/(-T_1 + T_f)**2 + Delta(m_1)**2/m_1**2 + Delta(c_w)**2/c_w**2)*Abs(c_w*m_1*(T_1 - T_f))**2 + (Delta(T_2 - T_f)**2/(T_2 - T_f)**2 + Delta(m_2)**2/m_2**2 + Delta(c_w)**2/c_w**2)*Abs(c_w*m_2*(T_2 - T_f))**2)/(-c_w*m_1*(-T_1 + T_f) + c_w*m_2*(T_2 - T_f))**2 + (Delta(T_1)**2 + Delta(T_f)**2)/(-T_1 + T_f)**2)*Abs((-c_w*m_1*(T_1 - T_f) - c_w*m_2*(T_2 - T_f))/(T_1 - T_f))"
      ]
     },
     "metadata": {},
     "output_type": "display_data"
    },
    {
     "data": {
      "text/latex": [
       "$\\displaystyle \\sqrt{\\frac{\\left(\\frac{\\Delta^{2}{\\left(- T_{1} \\right)} + \\Delta^{2}{\\left(T_{f} \\right)}}{\\left(- T_{1} + T_{f}\\right)^{2}} + \\frac{\\Delta^{2}{\\left(m_{1} \\right)}}{m_{1}^{2}} + \\frac{\\Delta^{2}{\\left(c_{w} \\right)}}{c_{w}^{2}}\\right) \\left|{c_{w} m_{1} \\left(T_{1} - T_{f}\\right)}\\right|^{2} + \\left(\\frac{\\Delta^{2}{\\left(T_{2} \\right)} + \\Delta^{2}{\\left(- T_{f} \\right)}}{\\left(T_{2} - T_{f}\\right)^{2}} + \\frac{\\Delta^{2}{\\left(m_{2} \\right)}}{m_{2}^{2}} + \\frac{\\Delta^{2}{\\left(c_{w} \\right)}}{c_{w}^{2}}\\right) \\left|{c_{w} m_{2} \\left(T_{2} - T_{f}\\right)}\\right|^{2}}{\\left(- c_{w} m_{1} \\left(- T_{1} + T_{f}\\right) + c_{w} m_{2} \\left(T_{2} - T_{f}\\right)\\right)^{2}} + \\frac{\\Delta^{2}{\\left(T_{1} \\right)} + \\Delta^{2}{\\left(T_{f} \\right)}}{\\left(- T_{1} + T_{f}\\right)^{2}}} \\left|{\\frac{- c_{w} m_{1} \\left(T_{1} - T_{f}\\right) - c_{w} m_{2} \\left(T_{2} - T_{f}\\right)}{T_{1} - T_{f}}}\\right|$"
      ],
      "text/plain": [
       "sqrt((((Delta(-T_1)**2 + Delta(T_f)**2)/(-T_1 + T_f)**2 + Delta(m_1)**2/m_1**2 + Delta(c_w)**2/c_w**2)*Abs(c_w*m_1*(T_1 - T_f))**2 + ((Delta(T_2)**2 + Delta(-T_f)**2)/(T_2 - T_f)**2 + Delta(m_2)**2/m_2**2 + Delta(c_w)**2/c_w**2)*Abs(c_w*m_2*(T_2 - T_f))**2)/(-c_w*m_1*(-T_1 + T_f) + c_w*m_2*(T_2 - T_f))**2 + (Delta(T_1)**2 + Delta(T_f)**2)/(-T_1 + T_f)**2)*Abs((-c_w*m_1*(T_1 - T_f) - c_w*m_2*(T_2 - T_f))/(T_1 - T_f))"
      ]
     },
     "metadata": {},
     "output_type": "display_data"
    },
    {
     "data": {
      "text/latex": [
       "$\\displaystyle \\sqrt{\\frac{\\left(\\frac{\\Delta^{2}{\\left(T_{1} \\right)} + \\Delta^{2}{\\left(T_{f} \\right)}}{\\left(- T_{1} + T_{f}\\right)^{2}} + \\frac{\\Delta^{2}{\\left(m_{1} \\right)}}{m_{1}^{2}} + \\frac{\\Delta^{2}{\\left(c_{w} \\right)}}{c_{w}^{2}}\\right) \\left|{c_{w} m_{1} \\left(T_{1} - T_{f}\\right)}\\right|^{2} + \\left(\\frac{\\Delta^{2}{\\left(T_{2} \\right)} + \\Delta^{2}{\\left(T_{f} \\right)}}{\\left(T_{2} - T_{f}\\right)^{2}} + \\frac{\\Delta^{2}{\\left(m_{2} \\right)}}{m_{2}^{2}} + \\frac{\\Delta^{2}{\\left(c_{w} \\right)}}{c_{w}^{2}}\\right) \\left|{c_{w} m_{2} \\left(T_{2} - T_{f}\\right)}\\right|^{2}}{\\left(- c_{w} m_{1} \\left(- T_{1} + T_{f}\\right) + c_{w} m_{2} \\left(T_{2} - T_{f}\\right)\\right)^{2}} + \\frac{\\Delta^{2}{\\left(T_{1} \\right)} + \\Delta^{2}{\\left(T_{f} \\right)}}{\\left(- T_{1} + T_{f}\\right)^{2}}} \\left|{\\frac{- c_{w} m_{1} \\left(T_{1} - T_{f}\\right) - c_{w} m_{2} \\left(T_{2} - T_{f}\\right)}{T_{1} - T_{f}}}\\right|$"
      ],
      "text/plain": [
       "sqrt((((Delta(T_1)**2 + Delta(T_f)**2)/(-T_1 + T_f)**2 + Delta(m_1)**2/m_1**2 + Delta(c_w)**2/c_w**2)*Abs(c_w*m_1*(T_1 - T_f))**2 + ((Delta(T_2)**2 + Delta(T_f)**2)/(T_2 - T_f)**2 + Delta(m_2)**2/m_2**2 + Delta(c_w)**2/c_w**2)*Abs(c_w*m_2*(T_2 - T_f))**2)/(-c_w*m_1*(-T_1 + T_f) + c_w*m_2*(T_2 - T_f))**2 + (Delta(T_1)**2 + Delta(T_f)**2)/(-T_1 + T_f)**2)*Abs((-c_w*m_1*(T_1 - T_f) - c_w*m_2*(T_2 - T_f))/(T_1 - T_f))"
      ]
     },
     "metadata": {},
     "output_type": "display_data"
    }
   ],
   "source": [
    "import errorpp\n",
    "i = 2\n",
    "display(errorpp.propagate(ccal, absolute=True))\n",
    "for eq in errorpp.proprate_steps(ccal, absolute=True, step=1):\n",
    "    display(eq)\n"
   ]
  },
  {
   "cell_type": "code",
   "execution_count": null,
   "id": "030454a3",
   "metadata": {},
   "outputs": [],
   "source": []
  }
 ],
 "metadata": {
  "kernelspec": {
   "display_name": "Python 3 (ipykernel)",
   "language": "python",
   "name": "python3"
  },
  "language_info": {
   "codemirror_mode": {
    "name": "ipython",
    "version": 3
   },
   "file_extension": ".py",
   "mimetype": "text/x-python",
   "name": "python",
   "nbconvert_exporter": "python",
   "pygments_lexer": "ipython3",
   "version": "3.9.7"
  }
 },
 "nbformat": 4,
 "nbformat_minor": 5
}
